{
  "nbformat": 4,
  "nbformat_minor": 0,
  "metadata": {
    "colab": {
      "provenance": []
    },
    "kernelspec": {
      "name": "python3",
      "display_name": "Python 3"
    },
    "language_info": {
      "name": "python"
    }
  },
  "cells": [
    {
      "cell_type": "markdown",
      "source": [
        "# Sentiment Analysis Using Text - for Social Media feedback and profiel analysis"
      ],
      "metadata": {
        "id": "imARxrT5pxwa"
      }
    },
    {
      "cell_type": "code",
      "source": [
        "!pip install --quiet kaggle\n",
        "!pip install --quiet python-dotenv"
      ],
      "metadata": {
        "id": "BCiWQp_Ly-hB"
      },
      "execution_count": null,
      "outputs": []
    },
    {
      "cell_type": "markdown",
      "source": [
        "\n",
        "## 1. Importing Libraries and Setting Up\n",
        "\n",
        "This block handles the import of necessary libraries and setting up the environment. It includes libraries for data manipulation (Pandas, NumPy), visualization (Matplotlib, Seaborn), natural language processing (NLTK), machine learning (Scikit-learn, TensorFlow), and handling environment variables (dotenv). The script sets up styling for plots, suppresses warnings, and configures environment variables for accessing Kaggle's API.\n",
        "\n"
      ],
      "metadata": {
        "id": "k5scKOTgXEi5"
      }
    },
    {
      "cell_type": "code",
      "source": [
        "from google.colab import drive\n",
        "import dotenv\n",
        "import os"
      ],
      "metadata": {
        "id": "0YCkIXnQzKgg"
      },
      "execution_count": 13,
      "outputs": []
    },
    {
      "cell_type": "code",
      "source": [
        "# Importing necessary libraries\n",
        "import pandas as pd\n",
        "import numpy as np\n",
        "import matplotlib.pyplot as plt\n",
        "import seaborn as sns\n",
        "import re\n",
        "import string\n",
        "from sklearn.model_selection import train_test_split\n",
        "from tensorflow.keras.models import Model\n",
        "from tensorflow.keras.layers import Input, Embedding, LSTM, Dense, Activation, Dropout\n",
        "from tensorflow.keras.preprocessing.text import Tokenizer\n",
        "from tensorflow.keras.preprocessing.sequence import pad_sequences\n",
        "from tensorflow.keras.optimizers import RMSprop\n",
        "from sklearn.metrics import confusion_matrix, roc_curve, auc\n",
        "import nltk\n",
        "from nltk.corpus import stopwords\n",
        "from nltk.stem import PorterStemmer\n",
        "from mlxtend.plotting import plot_confusion_matrix\n",
        "import dotenv\n",
        "import os"
      ],
      "metadata": {
        "id": "Z4vqZaCvpB07"
      },
      "execution_count": 14,
      "outputs": []
    },
    {
      "cell_type": "code",
      "source": [
        "\n",
        "\n",
        "# Styling and warnings\n",
        "plt.style.use('ggplot')\n",
        "nltk.download(['stopwords', 'wordnet'])\n",
        "warnings.filterwarnings(\"ignore\")\n",
        "\n",
        "# Loading environment variables for Kaggle API\n",
        "dotenv.load_dotenv('/content/drive/MyDrive/Teaching/TME_6015/Credentials/.env')\n",
        "\n",
        "_kaggle_username=\"sjunbca\"\n",
        "_kaggle_key=\"a9d22a14ff656b11495b582ca6989c85\"\n",
        "\n",
        "\n",
        "\n",
        "os.environ['KAGGLE_USERNAME'] = _kaggle_username\n",
        "os.environ['KAGGLE_KEY'] = _kaggle_key\n"
      ],
      "metadata": {
        "colab": {
          "base_uri": "https://localhost:8080/"
        },
        "id": "K2dBc1UrpGhQ",
        "outputId": "ef368000-aaf7-49c2-82e0-7b4ae4eabaac"
      },
      "execution_count": 15,
      "outputs": [
        {
          "output_type": "stream",
          "name": "stderr",
          "text": [
            "[nltk_data] Downloading package stopwords to /root/nltk_data...\n",
            "[nltk_data]   Package stopwords is already up-to-date!\n",
            "[nltk_data] Downloading package wordnet to /root/nltk_data...\n",
            "[nltk_data]   Package wordnet is already up-to-date!\n"
          ]
        }
      ]
    },
    {
      "cell_type": "markdown",
      "source": [
        "## 2. Downloading and Preparing Dataset\n",
        "\n",
        "This block downloads the Sentiment140 dataset from Kaggle, unzips it, and loads it into a Pandas DataFrame. The data is then sampled and column names are assigned.**bold text**\n"
      ],
      "metadata": {
        "id": "1jE5J2wmp32J"
      }
    },
    {
      "cell_type": "code",
      "source": [
        "\n",
        "# Downloading and extracting dataset\n",
        "!kaggle datasets download -d kazanova/sentiment140\n",
        "!unzip sentiment140.zip"
      ],
      "metadata": {
        "colab": {
          "base_uri": "https://localhost:8080/"
        },
        "id": "MP3idj6FpJ3g",
        "outputId": "7625c168-159c-448d-f2e7-a9763d3e23e9"
      },
      "execution_count": 16,
      "outputs": [
        {
          "output_type": "stream",
          "name": "stdout",
          "text": [
            "sentiment140.zip: Skipping, found more recently modified local copy (use --force to force download)\n",
            "Archive:  sentiment140.zip\n",
            "replace training.1600000.processed.noemoticon.csv? [y]es, [n]o, [A]ll, [N]one, [r]ename: n\n"
          ]
        }
      ]
    },
    {
      "cell_type": "code",
      "source": [
        "# Loading the dataset\n",
        "def load_data(file_path, encodings):\n",
        "    for encoding in encodings:\n",
        "        try:\n",
        "            data = pd.read_csv(file_path, encoding=encoding)\n",
        "            print(f\"Data loaded successfully with encoding: {encoding}\")\n",
        "            return data\n",
        "        except UnicodeDecodeError as e:\n",
        "            print(f\"Error with encoding: {encoding} - {e}\")"
      ],
      "metadata": {
        "id": "QPGc4O_0pL_D"
      },
      "execution_count": 17,
      "outputs": []
    },
    {
      "cell_type": "markdown",
      "source": [
        "## 3. Data Preprocessing\n",
        "\n",
        "This section focuses on cleaning and preprocessing the text data. It involves selecting relevant columns, cleaning tweets (removing URLs, mentions, punctuation, and repetitive characters), removing stopwords, and applying stemming and lemmatization to the text."
      ],
      "metadata": {
        "id": "bFGRD-zWp788"
      }
    },
    {
      "cell_type": "code",
      "source": [
        "# Loading the dataset\n",
        "def load_data(file_path, encodings):\n",
        "    for encoding in encodings:\n",
        "        try:\n",
        "            data = pd.read_csv(file_path, encoding=encoding)\n",
        "            print(f\"Data loaded successfully with encoding: {encoding}\")\n",
        "            return data\n",
        "        except UnicodeDecodeError as e:\n",
        "            print(f\"Error with encoding: {encoding} - {e}\")"
      ],
      "metadata": {
        "colab": {
          "base_uri": "https://localhost:8080/"
        },
        "id": "QP1JExyYpOjK",
        "outputId": "9e25d889-9962-4cb2-cfa6-3debbd06792e"
      },
      "execution_count": 18,
      "outputs": [
        {
          "output_type": "stream",
          "name": "stdout",
          "text": [
            "Data loaded successfully with encoding: ISO-8859-1\n"
          ]
        }
      ]
    },
    {
      "cell_type": "code",
      "source": [
        "# Preprocessing the data\n",
        "tweets_df = tweets_df[['tweet', 'sentiment']]\n",
        "tweets_df['sentiment'] = tweets_df['sentiment'].replace(4, 1)"
      ],
      "metadata": {
        "id": "sCZTIc38pR-w"
      },
      "execution_count": 19,
      "outputs": []
    },
    {
      "cell_type": "code",
      "source": [
        "# Function to clean tweets\n",
        "def clean_tweet(tweet):\n",
        "    tweet = tweet.lower()\n",
        "    tweet = re.sub('@[^\\s]+', ' ', tweet)\n",
        "    tweet = re.sub('((www\\.[^\\s]+)|(https?://[^\\s]+))',' ', tweet)\n",
        "    tweet = \"\".join([char for char in tweet if char not in string.punctuation])\n",
        "    tweet = re.sub(r'(.)\\1+', r'\\1', tweet)\n",
        "    return tweet\n"
      ],
      "metadata": {
        "id": "1wGFaMqnpUYE"
      },
      "execution_count": 20,
      "outputs": []
    },
    {
      "cell_type": "code",
      "source": [
        "tweets_df['tweet'] = tweets_df['tweet'].apply(clean_tweet)\n",
        "\n",
        "# Removing stopwords\n",
        "stop_words = set(stopwords.words('english'))\n",
        "tweets_df['tweet'] = tweets_df['tweet'].apply(lambda x: ' '.join([word for word in x.split() if word not in stop_words]))\n"
      ],
      "metadata": {
        "id": "n2VsNm-DpXmb"
      },
      "execution_count": 21,
      "outputs": []
    },
    {
      "cell_type": "code",
      "source": [
        "# Stemming and Lemmatization\n",
        "stemmer = PorterStemmer()\n",
        "lemmatizer = nltk.WordNetLemmatizer()\n",
        "\n",
        "def stem_and_lemmatize(tweet):\n",
        "    words = tweet.split()\n",
        "    stemmed_words = [stemmer.stem(word) for word in words]\n",
        "    lemmatized_words = [lemmatizer.lemmatize(word) for word in stemmed_words]\n",
        "    return ' '.join(lemmatized_words)\n",
        "\n",
        "tweets_df['tweet'] = tweets_df['tweet'].apply(stem_and_lemmatize)"
      ],
      "metadata": {
        "id": "A64rFF2-pZjy"
      },
      "execution_count": 22,
      "outputs": []
    },
    {
      "cell_type": "code",
      "source": [],
      "metadata": {
        "id": "myQ2keulqF_e"
      },
      "execution_count": 22,
      "outputs": []
    },
    {
      "cell_type": "markdown",
      "source": [
        "## 4. Preparing Data for Model Training\n",
        "\n",
        "This block prepares the dataset for training the model. It tokenizes the tweets, converts them into sequences, and pads these sequences to a fixed length. The dataset is then split into training and testing sets.\n"
      ],
      "metadata": {
        "id": "rPA4aKvhqHbY"
      }
    },
    {
      "cell_type": "code",
      "source": [
        "# Preparing the data for model training\n",
        "X = tweets_df['tweet']\n",
        "y = tweets_df['sentiment']\n",
        "\n",
        "tokenizer = Tokenizer(num_words=2000)\n",
        "tokenizer.fit_on_texts(X)\n",
        "X_seq = tokenizer.texts_to_sequences(X)\n",
        "X_pad = pad_sequences(X_seq, maxlen=500)"
      ],
      "metadata": {
        "id": "A7BL0mpKpbgj"
      },
      "execution_count": 23,
      "outputs": []
    },
    {
      "cell_type": "code",
      "source": [
        "# Splitting the dataset\n",
        "X_train, X_test, y_train, y_test = train_test_split(X_pad, y, test_size=0.3, random_state=42)"
      ],
      "metadata": {
        "id": "3cAMduHWpezS"
      },
      "execution_count": 24,
      "outputs": []
    },
    {
      "cell_type": "markdown",
      "source": [
        "## 5. Building and Training the Model\n",
        "In this block, a sentiment analysis model is built using Keras. The model consists of an embedding layer, an LSTM layer, a dense layer, and a dropout layer. The model is compiled and trained on the training data.\n"
      ],
      "metadata": {
        "id": "EVikkux3qMI4"
      }
    },
    {
      "cell_type": "code",
      "source": [
        "# Building the model\n",
        "def build_model():\n",
        "    input_layer = Input(shape=[500], name='input')\n",
        "    embedding_layer = Embedding(2000, 50, input_length=500)(input_layer)\n",
        "    lstm_layer = LSTM(64)(embedding_layer)\n",
        "    dense_layer = Dense(256, activation='relu')(lstm_layer)\n",
        "    dropout_layer = Dropout(0.5)(dense_layer)\n",
        "    output_layer = Dense(1, activation='sigmoid')(dropout_layer)\n",
        "    model = Model(inputs=input_layer, outputs=output_layer)\n",
        "    return model\n",
        "\n",
        "sentiment_model = build_model()\n",
        "sentiment_model.compile(loss='binary_crossentropy', optimizer=RMSprop(), metrics=['accuracy'])"
      ],
      "metadata": {
        "id": "6IzJnwnJpfUm"
      },
      "execution_count": 25,
      "outputs": []
    },
    {
      "cell_type": "code",
      "source": [
        "# Training the model\n",
        "history = sentiment_model.fit(X_train, y_train, batch_size=80, epochs=6, validation_split=0.1)"
      ],
      "metadata": {
        "colab": {
          "base_uri": "https://localhost:8080/"
        },
        "id": "KD39FKWapkXx",
        "outputId": "bb96c121-9e55-4cc0-dfe2-21b550aa0fb4"
      },
      "execution_count": 26,
      "outputs": [
        {
          "output_type": "stream",
          "name": "stdout",
          "text": [
            "Epoch 1/6\n",
            "1260/1260 [==============================] - 307s 242ms/step - loss: 0.5302 - accuracy: 0.7326 - val_loss: 0.5021 - val_accuracy: 0.7560\n",
            "Epoch 2/6\n",
            "1260/1260 [==============================] - 304s 241ms/step - loss: 0.4913 - accuracy: 0.7641 - val_loss: 0.4979 - val_accuracy: 0.7622\n",
            "Epoch 3/6\n",
            "1260/1260 [==============================] - 302s 240ms/step - loss: 0.4812 - accuracy: 0.7706 - val_loss: 0.4942 - val_accuracy: 0.7634\n",
            "Epoch 4/6\n",
            "1260/1260 [==============================] - 301s 239ms/step - loss: 0.4738 - accuracy: 0.7746 - val_loss: 0.4923 - val_accuracy: 0.7656\n",
            "Epoch 5/6\n",
            "1260/1260 [==============================] - 302s 240ms/step - loss: 0.4682 - accuracy: 0.7774 - val_loss: 0.4907 - val_accuracy: 0.7636\n",
            "Epoch 6/6\n",
            "1260/1260 [==============================] - 303s 240ms/step - loss: 0.4629 - accuracy: 0.7811 - val_loss: 0.4908 - val_accuracy: 0.7629\n"
          ]
        }
      ]
    },
    {
      "cell_type": "markdown",
      "source": [
        "## 6.Evaluating the Model\n",
        "The final block of the script evaluates the performance of the trained model on the test dataset. It prints the test accuracy, generates a confusion matrix, and plots it. Additionally, it plots the Receiver Operating Characteristic (ROC) curve to assess the model's performance in distinguishing between classes."
      ],
      "metadata": {
        "id": "hGKDFl8XqO4I"
      }
    },
    {
      "cell_type": "code",
      "source": [
        "# Evaluating the model\n",
        "test_acc = sentiment_model.evaluate(X_test, y_test)\n",
        "print(f'Test Accuracy: {test_acc[1]:.2f}')"
      ],
      "metadata": {
        "colab": {
          "base_uri": "https://localhost:8080/"
        },
        "id": "VZReYuYypmTX",
        "outputId": "9ea449a1-0f54-4bf7-e9ef-c01f13eba03a"
      },
      "execution_count": 27,
      "outputs": [
        {
          "output_type": "stream",
          "name": "stdout",
          "text": [
            "1500/1500 [==============================] - 62s 41ms/step - loss: 0.4859 - accuracy: 0.7663\n",
            "Test Accuracy: 0.77\n"
          ]
        }
      ]
    },
    {
      "cell_type": "code",
      "source": [
        "# Generating predictions and confusion matrix\n",
        "predictions = sentiment_model.predict(X_test)\n",
        "predictions = (predictions > 0.5)\n",
        "conf_matrix = confusion_matrix(y_test, predictions)"
      ],
      "metadata": {
        "colab": {
          "base_uri": "https://localhost:8080/"
        },
        "id": "yLoChsjvpnX8",
        "outputId": "7df9a36a-c8df-4683-825f-abba31e498b7"
      },
      "execution_count": 28,
      "outputs": [
        {
          "output_type": "stream",
          "name": "stdout",
          "text": [
            "1500/1500 [==============================] - 62s 41ms/step\n"
          ]
        }
      ]
    },
    {
      "cell_type": "code",
      "source": [
        "# Plotting confusion matrix\n",
        "plot_confusion_matrix(conf_mat=conf_matrix, figsize=(10, 10), show_absolute=True, show_normed=True, colorbar=True)\n",
        "plt.show()"
      ],
      "metadata": {
        "colab": {
          "base_uri": "https://localhost:8080/",
          "height": 807
        },
        "id": "lPwMdglLppXE",
        "outputId": "f30304db-111c-40d4-a5e1-033738e11c44"
      },
      "execution_count": 29,
      "outputs": [
        {
          "output_type": "display_data",
          "data": {
            "text/plain": [
              "<Figure size 1000x1000 with 2 Axes>"
            ],
            "image/png": "[encoded data removed]"
          },
          "metadata": {}
        }
      ]
    },
    {
      "cell_type": "markdown",
      "source": [
        "## Observations based on the matrix:\n",
        "\n",
        "The model has a high number of true positives/negatives (correct predictions), as indicated by the larger numbers in the diagonal cells. For class '0', there are 18,445 correct predictions, and for class '1', there are 18,337 correct predictions.\n",
        "\n",
        "The model has made a significant number of false predictions as well, although they are less than the true predictions. For class '0', it incorrectly predicted 5,407 instances as class '1', and for class '1', it incorrectly predicted 5,811 instances as class '0'.\n",
        "\n",
        "The ratios in the parentheses indicate the proportion of total predictions that were correct for each class. For class '0', about 77% of the predictions were correct, and for class '1', about 76% of the predictions were correct.\n",
        "\n",
        "The color intensity suggests that the model is relatively balanced in terms of prediction accuracy across both classes, which is good for a binary classifier. There is not a strong bias towards one class.\n",
        "\n",
        "To further assess the model's performance, you'd typically consider metrics such as accuracy, precision, recall, and F1 score. These are not provided in the confusion matrix but can be calculated based on the numbers given.\n",
        "\n",
        "Overall, the model seems to be performing reasonably well, with a balanced accuracy across the two classes. However, there is still a notable number of false predictions, which suggests that there might be room for improvement, possibly by further training, parameter tuning, or using a different model architecture."
      ],
      "metadata": {
        "id": "CzbKtVmzxwJ3"
      }
    },
    {
      "cell_type": "code",
      "execution_count": 30,
      "metadata": {
        "colab": {
          "base_uri": "https://localhost:8080/",
          "height": 477
        },
        "id": "nS7sz-98ytNU",
        "outputId": "bd026edc-dd96-478a-d7c2-16a903099525"
      },
      "outputs": [
        {
          "output_type": "display_data",
          "data": {
            "text/plain": [
              "<Figure size 640x480 with 1 Axes>"
            ],
            "image/png": "[encoded data removed]"
          },
          "metadata": {}
        }
      ],
      "source": [
        "# ROC Curve\n",
        "fpr, tpr, thresholds = roc_curve(y_test, predictions)\n",
        "roc_auc = auc(fpr, tpr)\n",
        "plt.figure()\n",
        "plt.plot(fpr, tpr, color='darkorange', lw=1, label=f'ROC curve (area = {roc_auc:.2f})')\n",
        "plt.xlabel('False Positive Rate')\n",
        "plt.ylabel('True Positive Rate')\n",
        "plt.title('Receiver Operating Characteristic')\n",
        "plt.legend(loc=\"lower right\")\n",
        "plt.show()\n"
      ]
    },
    {
      "cell_type": "markdown",
      "source": [
        "## observations based on the ROC curve:\n",
        "\n",
        "Area Under the Curve (AUC): The ROC curve has an area of 0.77, as indicated in the legend. An AUC of 1 represents a perfect model, while an AUC of 0.5 represents a model with no discriminative ability, equivalent to random guessing. With an AUC of 0.77, the model has good discriminative ability, although there is still room for improvement.\n",
        "\n",
        "Performance at Various Thresholds: The shape of the curve suggests that the model performs significantly better than random chance across all thresholds. The curve rises quickly towards the top-left corner, which indicates a high true positive rate for a low false positive rate, which is desirable in a classifier.\n",
        "\n",
        "Optimal Threshold: The 'elbow' of the ROC curve represents an optimal balance between sensitivity (TPR) and specificity (1 - FPR). The model's threshold set at this point would offer a beneficial trade-off between detecting positive cases and avoiding false alarms. In this curve, the elbow isn't sharply defined, which may suggest that the optimal threshold could be a range rather than a specific value.\n",
        "\n",
        "Performance Inference: The fact that the ROC curve stays well above the diagonal line (which would represent random guessing) throughout suggests the model has learned patterns from the data and is making informed predictions rather than guessing.\n",
        "\n",
        "Comparison with Other Models: If comparing multiple models, one would look for a ROC curve that stays closer to the top-left corner of the plot. The closer the curve follows the left-hand border and then the top border of the ROC space, the more accurate the test.\n",
        "\n",
        "Potential Bias: If the curve was closer to the diagonal or below it at any point, it would suggest potential bias or problems with the model. However, this does not seem to be the case with your model.\n",
        "\n",
        "In summary, the ROC curve for your sentiment analysis model indicates that it has good predictive power, with an AUC of 0.77. This suggests the model is able to distinguish between the classes (likely positive and negative sentiment) better than chance, but still has potential for improvement."
      ],
      "metadata": {
        "id": "XTQpTNzVyT6g"
      }
    },
    {
      "cell_type": "markdown",
      "source": [
        "# Implementing the model with custom feedback reviews for Event Feedbacks\n",
        "\n",
        "\n"
      ],
      "metadata": {
        "id": "nftWDb_GuVqY"
      }
    },
    {
      "cell_type": "code",
      "source": [
        "from google.colab import drive\n",
        "# Mount Google Drive\n",
        "drive.mount('/content/drive')"
      ],
      "metadata": {
        "colab": {
          "base_uri": "https://localhost:8080/"
        },
        "id": "wrBEG1TVrWob",
        "outputId": "0774379c-eeed-4c32-ba75-bf306952130d"
      },
      "execution_count": 32,
      "outputs": [
        {
          "output_type": "stream",
          "name": "stdout",
          "text": [
            "Mounted at /content/drive\n"
          ]
        }
      ]
    },
    {
      "cell_type": "code",
      "source": [
        "# '/content/drive/MyDrive/Teaching/TME_6015/Final_Project/sentiment_text/one/comments.csv'"
      ],
      "metadata": {
        "id": "La8bEU_-sMS9"
      },
      "execution_count": null,
      "outputs": []
    },
    {
      "cell_type": "code",
      "source": [
        "from google.colab import drive\n",
        "import pandas as pd\n",
        "from tensorflow.keras.preprocessing.sequence import pad_sequences\n",
        "\n",
        "# Mount Google Drive\n",
        "drive.mount('/content/drive')\n",
        "\n",
        "# Load the new CSV file without headers\n",
        "file_path = '/content/drive/MyDrive/Teaching/TME_6015/Final_Project/sentiment_text/one/comments.csv'  # Replace with your file path\n",
        "new_data = pd.read_csv(file_path, header=None)\n",
        "new_data.columns = ['tweet']  # Assigning the column name\n",
        "\n",
        "# Preprocess the new data (reuse your `clean_tweet` and `stem_and_lemmatize` functions)\n",
        "new_data['tweet'] = new_data['tweet'].apply(clean_tweet)\n",
        "new_data['tweet'] = new_data['tweet'].apply(lambda x: ' '.join([word for word in x.split() if word not in stop_words]))\n",
        "new_data['tweet'] = new_data['tweet'].apply(stem_and_lemmatize)\n",
        "\n",
        "# Tokenize and pad the new data\n",
        "new_seq = tokenizer.texts_to_sequences(new_data['tweet'])\n",
        "new_pad = pad_sequences(new_seq, maxlen=500)\n",
        "\n",
        "# Predict sentiments\n",
        "new_predictions = sentiment_model.predict(new_pad)\n",
        "new_predictions = (new_predictions > 0.5).astype(int)\n",
        "\n",
        "# Convert numeric predictions to textual labels\n",
        "sentiment_labels = {0: 'Negative', 1: 'Positive'}\n",
        "new_data['predicted_sentiment'] = new_predictions\n",
        "new_data['predicted_sentiment'] = new_data['predicted_sentiment'].map(sentiment_labels)\n",
        "\n",
        "\n",
        "# Save or display the results\n",
        "output_path = '/content/drive/MyDrive/Teaching/TME_6015/Final_Project/sentiment_text/one/path_to_output_file.csv'  # Replace with your desired output path\n",
        "new_data.to_csv(output_path, index=False)\n"
      ],
      "metadata": {
        "colab": {
          "base_uri": "https://localhost:8080/"
        },
        "id": "MpunB2H1qziU",
        "outputId": "a3aa9fff-ea95-4349-8ff3-d5f5a57c1adf"
      },
      "execution_count": 36,
      "outputs": [
        {
          "output_type": "stream",
          "name": "stdout",
          "text": [
            "Drive already mounted at /content/drive; to attempt to forcibly remount, call drive.mount(\"/content/drive\", force_remount=True).\n",
            "6/6 [==============================] - 1s 88ms/step\n"
          ]
        }
      ]
    },
    {
      "cell_type": "code",
      "source": [
        "new_data.head()\n"
      ],
      "metadata": {
        "colab": {
          "base_uri": "https://localhost:8080/",
          "height": 206
        },
        "id": "zU32vx13uP_2",
        "outputId": "5dc07918-cc60-4f43-f2d3-0ffa18d58724"
      },
      "execution_count": 38,
      "outputs": [
        {
          "output_type": "execute_result",
          "data": {
            "text/plain": [
              "                                               tweet predicted_sentiment\n",
              "0    absolut love event 🎉 everyth topnotch bestdayev            Positive\n",
              "1         great experi confer learn lot thank 😊 educ            Positive\n",
              "2  fantast perform last night bravo al artist 👏 c...            Positive\n",
              "3     workshop incred insight inspir learningjourney            Positive\n",
              "4  love diver energi festiv wil return next year ...            Positive"
            ],
            "text/html": [
              "\n",
              "  <div id=\"df-e28f083b-9195-49e0-b0ea-47a6303c449c\" class=\"colab-df-container\">\n",
              "    <div>\n",
              "<style scoped>\n",
              "    .dataframe tbody tr th:only-of-type {\n",
              "        vertical-align: middle;\n",
              "    }\n",
              "\n",
              "    .dataframe tbody tr th {\n",
              "        vertical-align: top;\n",
              "    }\n",
              "\n",
              "    .dataframe thead th {\n",
              "        text-align: right;\n",
              "    }\n",
              "</style>\n",
              "<table border=\"1\" class=\"dataframe\">\n",
              "  <thead>\n",
              "    <tr style=\"text-align: right;\">\n",
              "      <th></th>\n",
              "      <th>tweet</th>\n",
              "      <th>predicted_sentiment</th>\n",
              "    </tr>\n",
              "  </thead>\n",
              "  <tbody>\n",
              "    <tr>\n",
              "      <th>0</th>\n",
              "      <td>absolut love event 🎉 everyth topnotch bestdayev</td>\n",
              "      <td>Positive</td>\n",
              "    </tr>\n",
              "    <tr>\n",
              "      <th>1</th>\n",
              "      <td>great experi confer learn lot thank 😊 educ</td>\n",
              "      <td>Positive</td>\n",
              "    </tr>\n",
              "    <tr>\n",
              "      <th>2</th>\n",
              "      <td>fantast perform last night bravo al artist 👏 c...</td>\n",
              "      <td>Positive</td>\n",
              "    </tr>\n",
              "    <tr>\n",
              "      <th>3</th>\n",
              "      <td>workshop incred insight inspir learningjourney</td>\n",
              "      <td>Positive</td>\n",
              "    </tr>\n",
              "    <tr>\n",
              "      <th>4</th>\n",
              "      <td>love diver energi festiv wil return next year ...</td>\n",
              "      <td>Positive</td>\n",
              "    </tr>\n",
              "  </tbody>\n",
              "</table>\n",
              "</div>\n",
              "    <div class=\"colab-df-buttons\">\n",
              "\n",
              "  <div class=\"colab-df-container\">\n",
              "    <button class=\"colab-df-convert\" onclick=\"convertToInteractive('df-e28f083b-9195-49e0-b0ea-47a6303c449c')\"\n",
              "            title=\"Convert this dataframe to an interactive table.\"\n",
              "            style=\"display:none;\">\n",
              "\n",
              "  <svg xmlns=\"http://www.w3.org/2000/svg\" height=\"24px\" viewBox=\"0 -960 960 960\">\n",
              "    <path d=\"M120-120v-720h720v720H120Zm60-500h600v-160H180v160Zm220 220h160v-160H400v160Zm0 220h160v-160H400v160ZM180-400h160v-160H180v160Zm440 0h160v-160H620v160ZM180-180h160v-160H180v160Zm440 0h160v-160H620v160Z\"/>\n",
              "  </svg>\n",
              "    </button>\n",
              "\n",
              "  <style>\n",
              "    .colab-df-container {\n",
              "      display:flex;\n",
              "      gap: 12px;\n",
              "    }\n",
              "\n",
              "    .colab-df-convert {\n",
              "      background-color: #E8F0FE;\n",
              "      border: none;\n",
              "      border-radius: 50%;\n",
              "      cursor: pointer;\n",
              "      display: none;\n",
              "      fill: #1967D2;\n",
              "      height: 32px;\n",
              "      padding: 0 0 0 0;\n",
              "      width: 32px;\n",
              "    }\n",
              "\n",
              "    .colab-df-convert:hover {\n",
              "      background-color: #E2EBFA;\n",
              "      box-shadow: 0px 1px 2px rgba(60, 64, 67, 0.3), 0px 1px 3px 1px rgba(60, 64, 67, 0.15);\n",
              "      fill: #174EA6;\n",
              "    }\n",
              "\n",
              "    .colab-df-buttons div {\n",
              "      margin-bottom: 4px;\n",
              "    }\n",
              "\n",
              "    [theme=dark] .colab-df-convert {\n",
              "      background-color: #3B4455;\n",
              "      fill: #D2E3FC;\n",
              "    }\n",
              "\n",
              "    [theme=dark] .colab-df-convert:hover {\n",
              "      background-color: #434B5C;\n",
              "      box-shadow: 0px 1px 3px 1px rgba(0, 0, 0, 0.15);\n",
              "      filter: drop-shadow(0px 1px 2px rgba(0, 0, 0, 0.3));\n",
              "      fill: #FFFFFF;\n",
              "    }\n",
              "  </style>\n",
              "\n",
              "    <script>\n",
              "      const buttonEl =\n",
              "        document.querySelector('#df-e28f083b-9195-49e0-b0ea-47a6303c449c button.colab-df-convert');\n",
              "      buttonEl.style.display =\n",
              "        google.colab.kernel.accessAllowed ? 'block' : 'none';\n",
              "\n",
              "      async function convertToInteractive(key) {\n",
              "        const element = document.querySelector('#df-e28f083b-9195-49e0-b0ea-47a6303c449c');\n",
              "        const dataTable =\n",
              "          await google.colab.kernel.invokeFunction('convertToInteractive',\n",
              "                                                    [key], {});\n",
              "        if (!dataTable) return;\n",
              "\n",
              "        const docLinkHtml = 'Like what you see? Visit the ' +\n",
              "          '<a target=\"_blank\" href=https://colab.research.google.com/notebooks/data_table.ipynb>data table notebook</a>'\n",
              "          + ' to learn more about interactive tables.';\n",
              "        element.innerHTML = '';\n",
              "        dataTable['output_type'] = 'display_data';\n",
              "        await google.colab.output.renderOutput(dataTable, element);\n",
              "        const docLink = document.createElement('div');\n",
              "        docLink.innerHTML = docLinkHtml;\n",
              "        element.appendChild(docLink);\n",
              "      }\n",
              "    </script>\n",
              "  </div>\n",
              "\n",
              "\n",
              "<div id=\"df-a5621fd6-17d2-4fc3-8417-63beb3214cc9\">\n",
              "  <button class=\"colab-df-quickchart\" onclick=\"quickchart('df-a5621fd6-17d2-4fc3-8417-63beb3214cc9')\"\n",
              "            title=\"Suggest charts\"\n",
              "            style=\"display:none;\">\n",
              "\n",
              "<svg xmlns=\"http://www.w3.org/2000/svg\" height=\"24px\"viewBox=\"0 0 24 24\"\n",
              "     width=\"24px\">\n",
              "    <g>\n",
              "        <path d=\"M19 3H5c-1.1 0-2 .9-2 2v14c0 1.1.9 2 2 2h14c1.1 0 2-.9 2-2V5c0-1.1-.9-2-2-2zM9 17H7v-7h2v7zm4 0h-2V7h2v10zm4 0h-2v-4h2v4z\"/>\n",
              "    </g>\n",
              "</svg>\n",
              "  </button>\n",
              "\n",
              "<style>\n",
              "  .colab-df-quickchart {\n",
              "      --bg-color: #E8F0FE;\n",
              "      --fill-color: #1967D2;\n",
              "      --hover-bg-color: #E2EBFA;\n",
              "      --hover-fill-color: #174EA6;\n",
              "      --disabled-fill-color: #AAA;\n",
              "      --disabled-bg-color: #DDD;\n",
              "  }\n",
              "\n",
              "  [theme=dark] .colab-df-quickchart {\n",
              "      --bg-color: #3B4455;\n",
              "      --fill-color: #D2E3FC;\n",
              "      --hover-bg-color: #434B5C;\n",
              "      --hover-fill-color: #FFFFFF;\n",
              "      --disabled-bg-color: #3B4455;\n",
              "      --disabled-fill-color: #666;\n",
              "  }\n",
              "\n",
              "  .colab-df-quickchart {\n",
              "    background-color: var(--bg-color);\n",
              "    border: none;\n",
              "    border-radius: 50%;\n",
              "    cursor: pointer;\n",
              "    display: none;\n",
              "    fill: var(--fill-color);\n",
              "    height: 32px;\n",
              "    padding: 0;\n",
              "    width: 32px;\n",
              "  }\n",
              "\n",
              "  .colab-df-quickchart:hover {\n",
              "    background-color: var(--hover-bg-color);\n",
              "    box-shadow: 0 1px 2px rgba(60, 64, 67, 0.3), 0 1px 3px 1px rgba(60, 64, 67, 0.15);\n",
              "    fill: var(--button-hover-fill-color);\n",
              "  }\n",
              "\n",
              "  .colab-df-quickchart-complete:disabled,\n",
              "  .colab-df-quickchart-complete:disabled:hover {\n",
              "    background-color: var(--disabled-bg-color);\n",
              "    fill: var(--disabled-fill-color);\n",
              "    box-shadow: none;\n",
              "  }\n",
              "\n",
              "  .colab-df-spinner {\n",
              "    border: 2px solid var(--fill-color);\n",
              "    border-color: transparent;\n",
              "    border-bottom-color: var(--fill-color);\n",
              "    animation:\n",
              "      spin 1s steps(1) infinite;\n",
              "  }\n",
              "\n",
              "  @keyframes spin {\n",
              "    0% {\n",
              "      border-color: transparent;\n",
              "      border-bottom-color: var(--fill-color);\n",
              "      border-left-color: var(--fill-color);\n",
              "    }\n",
              "    20% {\n",
              "      border-color: transparent;\n",
              "      border-left-color: var(--fill-color);\n",
              "      border-top-color: var(--fill-color);\n",
              "    }\n",
              "    30% {\n",
              "      border-color: transparent;\n",
              "      border-left-color: var(--fill-color);\n",
              "      border-top-color: var(--fill-color);\n",
              "      border-right-color: var(--fill-color);\n",
              "    }\n",
              "    40% {\n",
              "      border-color: transparent;\n",
              "      border-right-color: var(--fill-color);\n",
              "      border-top-color: var(--fill-color);\n",
              "    }\n",
              "    60% {\n",
              "      border-color: transparent;\n",
              "      border-right-color: var(--fill-color);\n",
              "    }\n",
              "    80% {\n",
              "      border-color: transparent;\n",
              "      border-right-color: var(--fill-color);\n",
              "      border-bottom-color: var(--fill-color);\n",
              "    }\n",
              "    90% {\n",
              "      border-color: transparent;\n",
              "      border-bottom-color: var(--fill-color);\n",
              "    }\n",
              "  }\n",
              "</style>\n",
              "\n",
              "  <script>\n",
              "    async function quickchart(key) {\n",
              "      const quickchartButtonEl =\n",
              "        document.querySelector('#' + key + ' button');\n",
              "      quickchartButtonEl.disabled = true;  // To prevent multiple clicks.\n",
              "      quickchartButtonEl.classList.add('colab-df-spinner');\n",
              "      try {\n",
              "        const charts = await google.colab.kernel.invokeFunction(\n",
              "            'suggestCharts', [key], {});\n",
              "      } catch (error) {\n",
              "        console.error('Error during call to suggestCharts:', error);\n",
              "      }\n",
              "      quickchartButtonEl.classList.remove('colab-df-spinner');\n",
              "      quickchartButtonEl.classList.add('colab-df-quickchart-complete');\n",
              "    }\n",
              "    (() => {\n",
              "      let quickchartButtonEl =\n",
              "        document.querySelector('#df-a5621fd6-17d2-4fc3-8417-63beb3214cc9 button');\n",
              "      quickchartButtonEl.style.display =\n",
              "        google.colab.kernel.accessAllowed ? 'block' : 'none';\n",
              "    })();\n",
              "  </script>\n",
              "</div>\n",
              "\n",
              "    </div>\n",
              "  </div>\n"
            ]
          },
          "metadata": {},
          "execution_count": 38
        }
      ]
    },
    {
      "cell_type": "code",
      "source": [],
      "metadata": {
        "id": "q5VcFJqauQUJ"
      },
      "execution_count": null,
      "outputs": []
    }
  ]
}